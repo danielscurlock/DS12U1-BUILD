{
  "nbformat": 4,
  "nbformat_minor": 0,
  "metadata": {
    "colab": {
      "name": "Explanatory.ipynb",
      "provenance": [],
      "collapsed_sections": [],
      "toc_visible": true,
      "mount_file_id": "1NOxj0zfQI4SiOr9ayYe4huAGgLkBtwUA",
      "authorship_tag": "ABX9TyN41DDh0YScQEn1GgbbRy7U",
      "include_colab_link": true
    },
    "kernelspec": {
      "name": "python3",
      "display_name": "Python 3"
    }
  },
  "cells": [
    {
      "cell_type": "markdown",
      "metadata": {
        "id": "view-in-github",
        "colab_type": "text"
      },
      "source": [
        "<a href=\"https://colab.research.google.com/github/danielscurlock/DS12U1-BUILD/blob/master/notebooks/Explanatory.ipynb\" target=\"_parent\"><img src=\"https://colab.research.google.com/assets/colab-badge.svg\" alt=\"Open In Colab\"/></a>"
      ]
    },
    {
      "cell_type": "markdown",
      "metadata": {
        "id": "VO_mKi5AbX8C",
        "colab_type": "text"
      },
      "source": [
        "\n",
        "# **Explanatory Analysis of 188 Million Wild Fires:**\n",
        "by: ***Daniel Scurlock*** (3/2/20)\n",
        "\n",
        "\n",
        "---\n",
        "\n",
        "\n",
        "\n",
        "# *Dataset Description:*\n",
        "https://www.kaggle.com/rtatman/188-million-us-wildfires\n",
        "\n",
        "This data publication contains a spatial database of wildfires that occurred in the United States from 1992 to 2015. It is the third update of a publication originally generated to support the national Fire Program Analysis (FPA) system. The wildfire records were acquired from the reporting systems of federal, state, and local fire organizations. The following core data elements were required for records to be included in this data publication: discovery date, final fire size, and a point location at least as precise as Public Land Survey System (PLSS) section (1-square mile grid). The data were transformed to conform, when possible, to the data standards of the National Wildfire Coordinating Group (NWCG). Basic error-checking was performed and redundant records were identified and removed, to the degree possible. The resulting product, referred to as the Fire Program Analysis fire-occurrence database (FPA FOD), includes 1.88 million geo-referenced wildfire records, representing a total of 140 million acres burned during the 24-year period.\n",
        "\n",
        "\n",
        "---\n",
        "\n",
        "\n",
        "***I will try to be as thorough as possible. My goal here is to ask questions and exmplain those answers with visulalizations***"
      ]
    },
    {
      "cell_type": "code",
      "metadata": {
        "id": "1_smPhV7ckDY",
        "colab_type": "code",
        "colab": {}
      },
      "source": [
        "!pip install geopandas shapely"
      ],
      "execution_count": 0,
      "outputs": []
    },
    {
      "cell_type": "code",
      "metadata": {
        "id": "wikar6ykcBS6",
        "colab_type": "code",
        "colab": {}
      },
      "source": [
        "# Get things ready for analysis\n",
        "import pandas as pd\n",
        "import geopandas as gpd\n",
        "import matplotlib.pyplot as plt\n",
        "import descartes \n",
        "from shapely.geometry import Point, Polygon"
      ],
      "execution_count": 0,
      "outputs": []
    },
    {
      "cell_type": "code",
      "metadata": {
        "id": "BIoLxL1TcejJ",
        "colab_type": "code",
        "colab": {}
      },
      "source": [
        "# Get the previously created CSV into place for tomorrow\n",
        "df = pd.read_csv('/content/drive/My Drive/Lambda/DSU1-BUILD/data/firesfinal.csv', index_col=0 )"
      ],
      "execution_count": 0,
      "outputs": []
    },
    {
      "cell_type": "markdown",
      "metadata": {
        "id": "s-0nx52wpjX6",
        "colab_type": "text"
      },
      "source": [
        "# **A regional analysis of wildfires**\n",
        "I will compare and contrast wildfire data based on region. I want to know the frequency of fires per region, and the average acreage burned. I want to identify the most frequest cause of of those fires per region. I also want to identify the months where fires are more frequent"
      ]
    },
    {
      "cell_type": "code",
      "metadata": {
        "id": "4rQnFiL3dOGJ",
        "colab_type": "code",
        "colab": {}
      },
      "source": [
        ""
      ],
      "execution_count": 0,
      "outputs": []
    }
  ]
}